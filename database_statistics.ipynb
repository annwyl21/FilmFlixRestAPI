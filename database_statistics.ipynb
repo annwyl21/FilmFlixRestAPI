{
 "cells": [
  {
   "cell_type": "markdown",
   "metadata": {},
   "source": [
    "# Film Flix Database Statistics"
   ]
  },
  {
   "cell_type": "code",
   "execution_count": null,
   "metadata": {},
   "outputs": [],
   "source": [
    "import pandas as pd\n",
    "import numpy as np\n",
    "import matplotlib.pyplot as plt\n",
    "from matplotlib.colors import Normalize"
   ]
  },
  {
   "cell_type": "markdown",
   "metadata": {},
   "source": [
    "My Jupyter notebook client app connects to my Rest API in the cloud, receives json containing the Film Flix Database and puts that into a pandas dataframe so I can visualise the data."
   ]
  },
  {
   "cell_type": "code",
   "execution_count": null,
   "metadata": {},
   "outputs": [],
   "source": [
    "url = \"https://filmflixrestapi.onrender.com/api/films\"\n",
    "df = pd.read_json(url) \n",
    "print(df.head(3))\n",
    "# print(df.tail())"
   ]
  },
  {
   "cell_type": "code",
   "execution_count": null,
   "metadata": {},
   "outputs": [],
   "source": [
    "values, counts = np.unique(df['year_released'], return_counts=True)\n",
    "\n",
    "plt.figure(figsize=(4,3))\n",
    "plt.bar(values, counts)\n",
    "\n",
    "plt.xlabel(\"Film Release Years\")\n",
    "plt.ylabel(\"Films\")\n",
    "plt.title(\"Films released each year\")\n",
    "plt.show()"
   ]
  },
  {
   "cell_type": "markdown",
   "metadata": {},
   "source": [
    "Most of the films are modern, released between 2010 and 2020."
   ]
  },
  {
   "cell_type": "code",
   "execution_count": null,
   "metadata": {},
   "outputs": [],
   "source": [
    "values, counts = np.unique(df['genre'], return_counts=True)\n",
    "\n",
    "plt.figure(figsize=(3,3))\n",
    "plt.pie(counts, labels=values)\n",
    "plt.axis('equal')\n",
    "\n",
    "plt.title(\"Genre's in Film Flix Database\")\n",
    "plt.show()"
   ]
  },
  {
   "cell_type": "markdown",
   "metadata": {},
   "source": [
    "There are no SciFi movies available!"
   ]
  },
  {
   "cell_type": "code",
   "execution_count": null,
   "metadata": {},
   "outputs": [],
   "source": [
    "plt.figure(figsize=(4,3))\n",
    "plt.hist(df['duration'], bins=10)\n",
    "\n",
    "plt.title(\"Histogram of Film Length\")\n",
    "plt.xlabel(\"Minutes\")\n",
    "plt.ylabel(\"Films\")\n",
    "plt.show()"
   ]
  },
  {
   "cell_type": "markdown",
   "metadata": {},
   "source": [
    "Most movies are around 2hrs long."
   ]
  },
  {
   "cell_type": "code",
   "execution_count": null,
   "metadata": {},
   "outputs": [],
   "source": [
    "plt.figure(figsize=(4,3))\n",
    "plt.scatter(df['duration'], df['year_released'])\n",
    "\n",
    "plt.title(\"Are movies getting longer?\")\n",
    "plt.xlabel(\"Duration in Minutes\")\n",
    "plt.ylabel(\"Year Released\")\n",
    "plt.show()"
   ]
  },
  {
   "cell_type": "markdown",
   "metadata": {},
   "source": [
    "? a really long movie at 185 mins\n",
    "\n",
    "? a really old movie"
   ]
  },
  {
   "cell_type": "code",
   "execution_count": null,
   "metadata": {},
   "outputs": [],
   "source": [
    "# Finding the Ratings Categories\n",
    "df['rating_labels'] = df['rating'].astype('category').cat.codes\n",
    "# Using dataframe length to determine num and size of pie slices\n",
    "N = len(df)\n",
    "theta = np.linspace(0.0, 2 * np.pi, N, endpoint=False)\n",
    "\n",
    "radii = df['duration'] # bar height based on movie duration\n",
    "width = (2 * np.pi) / N # ensure no overlap\n",
    "\n",
    "# Determine colours for pie slices\n",
    "unique_categories = df['rating_labels'].nunique()\n",
    "colors = plt.cm.rainbow(np.linspace(0, 1, unique_categories))[df['rating_labels']]\n",
    "\n",
    "# Build the plot\n",
    "fig, ax = plt.subplots(figsize=(5,5), subplot_kw={'projection': 'polar'})\n",
    "ax.bar(theta, radii, width=width, bottom=0.0, color=colors, alpha=0.5)\n",
    "ax.grid(True)\n",
    "ax.set_xticks([])\n",
    "ax.set_yticks([60, 120, 180])\n",
    "ax.set_title(\"Polar Plot: Movie Duration by Rating\")\n",
    "\n",
    "plt.show()"
   ]
  },
  {
   "cell_type": "markdown",
   "metadata": {},
   "source": [
    "Polar Plot showing some quite long kids movies!\n",
    "\n",
    "Matrix Resurections is a PG in the DB, it was a 15 in the UK."
   ]
  },
  {
   "cell_type": "markdown",
   "metadata": {},
   "source": [
    "https://matplotlib.org/stable/gallery/pie_and_polar_charts/polar_demo.html"
   ]
  },
  {
   "cell_type": "markdown",
   "metadata": {},
   "source": [
    "Radial ticks in polar plots are controlled using the same methods as y-axis ticks for Cartesian plots because, in polar plots, the radial dimension corresponds to the y-axis of a Cartesian plot.\n",
    "\n",
    "https://matplotlib.org/3.1.1/api/_as_gen/matplotlib.axes.Axes.set_yticks.html#matplotlib.axes.Axes.set_yticks"
   ]
  }
 ],
 "metadata": {
  "kernelspec": {
   "display_name": "venv",
   "language": "python",
   "name": "python3"
  },
  "language_info": {
   "codemirror_mode": {
    "name": "ipython",
    "version": 3
   },
   "file_extension": ".py",
   "mimetype": "text/x-python",
   "name": "python",
   "nbconvert_exporter": "python",
   "pygments_lexer": "ipython3",
   "version": "3.11.5"
  },
  "orig_nbformat": 4
 },
 "nbformat": 4,
 "nbformat_minor": 2
}
