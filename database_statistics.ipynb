{
 "cells": [
  {
   "cell_type": "markdown",
   "metadata": {},
   "source": [
    "# Film Flix Database Statistics"
   ]
  },
  {
   "cell_type": "code",
   "execution_count": 11,
   "metadata": {},
   "outputs": [
    {
     "name": "stdout",
     "output_type": "stream",
     "text": [
      "test\n"
     ]
    }
   ],
   "source": [
    "print('test')"
   ]
  },
  {
   "cell_type": "code",
   "execution_count": 12,
   "metadata": {},
   "outputs": [],
   "source": [
    "import requests"
   ]
  },
  {
   "cell_type": "markdown",
   "metadata": {},
   "source": [
    "find out how to use requests to request from an endpoint in jupyter notebook"
   ]
  },
  {
   "cell_type": "code",
   "execution_count": 13,
   "metadata": {},
   "outputs": [
    {
     "name": "stdout",
     "output_type": "stream",
     "text": [
      "[{'id': 18155191, 'node_id': 'MDEwOlJlcG9zaXRvcnkxODE1NTE5MQ==', 'name': 'geeksforgeeks.github.io', 'full_name': 'geeksforgeeks/geeksforgeeks.github.io', 'private': False, 'owner': {'login': 'geeksforgeeks', 'id': 7075072, 'node_id': 'MDQ6VXNlcjcwNzUwNzI=', 'avatar_url': 'https://avatars.githubusercontent.com/u/7075072?v=4', 'gravatar_id': '', 'url': 'https://api.github.com/users/geeksforgeeks', 'html_url': 'https://github.com/geeksforgeeks', 'followers_url': 'https://api.github.com/users/geeksforgeeks/followers', 'following_url': 'https://api.github.com/users/geeksforgeeks/following{/other_user}', 'gists_url': 'https://api.github.com/users/geeksforgeeks/gists{/gist_id}', 'starred_url': 'https://api.github.com/users/geeksforgeeks/starred{/owner}{/repo}', 'subscriptions_url': 'https://api.github.com/users/geeksforgeeks/subscriptions', 'organizations_url': 'https://api.github.com/users/geeksforgeeks/orgs', 'repos_url': 'https://api.github.com/users/geeksforgeeks/repos', 'events_url': 'https://api.github.com/users/geeksforgeeks/events{/privacy}', 'received_events_url': 'https://api.github.com/users/geeksforgeeks/received_events', 'type': 'User', 'site_admin': False}, 'html_url': 'https://github.com/geeksforgeeks/geeksforgeeks.github.io', 'description': None, 'fork': False, 'url': 'https://api.github.com/repos/geeksforgeeks/geeksforgeeks.github.io', 'forks_url': 'https://api.github.com/repos/geeksforgeeks/geeksforgeeks.github.io/forks', 'keys_url': 'https://api.github.com/repos/geeksforgeeks/geeksforgeeks.github.io/keys{/key_id}', 'collaborators_url': 'https://api.github.com/repos/geeksforgeeks/geeksforgeeks.github.io/collaborators{/collaborator}', 'teams_url': 'https://api.github.com/repos/geeksforgeeks/geeksforgeeks.github.io/teams', 'hooks_url': 'https://api.github.com/repos/geeksforgeeks/geeksforgeeks.github.io/hooks', 'issue_events_url': 'https://api.github.com/repos/geeksforgeeks/geeksforgeeks.github.io/issues/events{/number}', 'events_url': 'https://api.github.com/repos/geeksforgeeks/geeksforgeeks.github.io/events', 'assignees_url': 'https://api.github.com/repos/geeksforgeeks/geeksforgeeks.github.io/assignees{/user}', 'branches_url': 'https://api.github.com/repos/geeksforgeeks/geeksforgeeks.github.io/branches{/branch}', 'tags_url': 'https://api.github.com/repos/geeksforgeeks/geeksforgeeks.github.io/tags', 'blobs_url': 'https://api.github.com/repos/geeksforgeeks/geeksforgeeks.github.io/git/blobs{/sha}', 'git_tags_url': 'https://api.github.com/repos/geeksforgeeks/geeksforgeeks.github.io/git/tags{/sha}', 'git_refs_url': 'https://api.github.com/repos/geeksforgeeks/geeksforgeeks.github.io/git/refs{/sha}', 'trees_url': 'https://api.github.com/repos/geeksforgeeks/geeksforgeeks.github.io/git/trees{/sha}', 'statuses_url': 'https://api.github.com/repos/geeksforgeeks/geeksforgeeks.github.io/statuses/{sha}', 'languages_url': 'https://api.github.com/repos/geeksforgeeks/geeksforgeeks.github.io/languages', 'stargazers_url': 'https://api.github.com/repos/geeksforgeeks/geeksforgeeks.github.io/stargazers', 'contributors_url': 'https://api.github.com/repos/geeksforgeeks/geeksforgeeks.github.io/contributors', 'subscribers_url': 'https://api.github.com/repos/geeksforgeeks/geeksforgeeks.github.io/subscribers', 'subscription_url': 'https://api.github.com/repos/geeksforgeeks/geeksforgeeks.github.io/subscription', 'commits_url': 'https://api.github.com/repos/geeksforgeeks/geeksforgeeks.github.io/commits{/sha}', 'git_commits_url': 'https://api.github.com/repos/geeksforgeeks/geeksforgeeks.github.io/git/commits{/sha}', 'comments_url': 'https://api.github.com/repos/geeksforgeeks/geeksforgeeks.github.io/comments{/number}', 'issue_comment_url': 'https://api.github.com/repos/geeksforgeeks/geeksforgeeks.github.io/issues/comments{/number}', 'contents_url': 'https://api.github.com/repos/geeksforgeeks/geeksforgeeks.github.io/contents/{+path}', 'compare_url': 'https://api.github.com/repos/geeksforgeeks/geeksforgeeks.github.io/compare/{base}...{head}', 'merges_url': 'https://api.github.com/repos/geeksforgeeks/geeksforgeeks.github.io/merges', 'archive_url': 'https://api.github.com/repos/geeksforgeeks/geeksforgeeks.github.io/{archive_format}{/ref}', 'downloads_url': 'https://api.github.com/repos/geeksforgeeks/geeksforgeeks.github.io/downloads', 'issues_url': 'https://api.github.com/repos/geeksforgeeks/geeksforgeeks.github.io/issues{/number}', 'pulls_url': 'https://api.github.com/repos/geeksforgeeks/geeksforgeeks.github.io/pulls{/number}', 'milestones_url': 'https://api.github.com/repos/geeksforgeeks/geeksforgeeks.github.io/milestones{/number}', 'notifications_url': 'https://api.github.com/repos/geeksforgeeks/geeksforgeeks.github.io/notifications{?since,all,participating}', 'labels_url': 'https://api.github.com/repos/geeksforgeeks/geeksforgeeks.github.io/labels{/name}', 'releases_url': 'https://api.github.com/repos/geeksforgeeks/geeksforgeeks.github.io/releases{/id}', 'deployments_url': 'https://api.github.com/repos/geeksforgeeks/geeksforgeeks.github.io/deployments', 'created_at': '2014-03-26T21:50:48Z', 'updated_at': '2014-03-26T21:50:48Z', 'pushed_at': '2014-03-26T21:50:48Z', 'git_url': 'git://github.com/geeksforgeeks/geeksforgeeks.github.io.git', 'ssh_url': 'git@github.com:geeksforgeeks/geeksforgeeks.github.io.git', 'clone_url': 'https://github.com/geeksforgeeks/geeksforgeeks.github.io.git', 'svn_url': 'https://github.com/geeksforgeeks/geeksforgeeks.github.io', 'homepage': None, 'size': 0, 'stargazers_count': 0, 'watchers_count': 0, 'language': None, 'has_issues': True, 'has_projects': True, 'has_downloads': True, 'has_wiki': True, 'has_pages': False, 'has_discussions': False, 'forks_count': 0, 'mirror_url': None, 'archived': False, 'disabled': False, 'open_issues_count': 0, 'license': None, 'allow_forking': True, 'is_template': False, 'web_commit_signoff_required': False, 'topics': [], 'visibility': 'public', 'forks': 0, 'open_issues': 0, 'watchers': 0, 'default_branch': 'master'}]\n"
     ]
    }
   ],
   "source": [
    "response = requests.get(\"https://api.github.com/users/GeeksforGeeks/repos\")\n",
    "data = response.json()\n",
    "print(data)"
   ]
  },
  {
   "cell_type": "code",
   "execution_count": 14,
   "metadata": {},
   "outputs": [
    {
     "name": "stdout",
     "output_type": "stream",
     "text": [
      "[{'duration': 116, 'genre': 'Comedy', 'id': 1, 'rating': 'PG', 'title': 'The Muppets', 'year_released': 2022}, {'duration': 109, 'genre': 'Test', 'id': 2, 'rating': 'PG', 'title': 'The Legend of Tarzan', 'year_released': 2016}, {'duration': 123, 'genre': 'Action', 'id': 3, 'rating': 'PG', 'title': 'Jason Bourne', 'year_released': 2016}, {'duration': 116, 'genre': 'Crime', 'id': 4, 'rating': 'R', 'title': 'The Nice Guys', 'year_released': 2016}, {'duration': 91, 'genre': 'Animation', 'id': 5, 'rating': 'G', 'title': 'The Secret Life of Pets', 'year_released': 2016}, {'duration': 120, 'genre': 'Action', 'id': 6, 'rating': 'PG', 'title': 'Star Trek Beyond', 'year_released': 2016}, {'duration': 151, 'genre': 'Action', 'id': 7, 'rating': 'PG', 'title': 'Batman v Superman', 'year_released': 2016}, {'duration': 103, 'genre': 'Animation', 'id': 8, 'rating': 'G', 'title': 'Finding Dory', 'year_released': 2016}, {'duration': 108, 'genre': 'Animation', 'id': 9, 'rating': 'G', 'title': 'Zootopia', 'year_released': 2016}, {'duration': 90, 'genre': 'Fantasy', 'id': 10, 'rating': 'PG', 'title': 'The BFG', 'year_released': 2016}, {'duration': 108, 'genre': 'Fantasy', 'id': 11, 'rating': 'PG', 'title': 'A Monster Calls', 'year_released': 2016}, {'duration': 120, 'genre': 'Action', 'id': 12, 'rating': 'PG', 'title': 'Independence Day: Resurgence', 'year_released': 2016}, {'duration': 94, 'genre': 'Crime', 'id': 13, 'rating': 'R', 'title': 'The Green Room', 'year_released': 2016}, {'duration': 130, 'genre': 'Fantasy', 'id': 14, 'rating': 'PG', 'title': 'Doctor Strange', 'year_released': 2016}, {'duration': 105, 'genre': 'Fantasy', 'id': 15, 'rating': 'PG', 'title': 'The Jungle Book', 'year_released': 2016}, {'duration': 118, 'genre': 'Fantasy', 'id': 16, 'rating': 'PG', 'title': 'Alice Through the Looking Glass', 'year_released': 2016}, {'duration': 109, 'genre': 'Crime', 'id': 17, 'rating': 'R', 'title': 'Imperium', 'year_released': 2016}, {'duration': 127, 'genre': 'Crime', 'id': 18, 'rating': 'R', 'title': 'The Infiltrator', 'year_released': 2016}, {'duration': 120, 'genre': 'Action', 'id': 19, 'rating': 'R', 'title': 'Mad Max: Fury Road', 'year_released': 2015}, {'duration': 145, 'genre': 'Action', 'id': 20, 'rating': 'PG', 'title': 'Spectre', 'year_released': 2015}, {'duration': 100, 'genre': 'Action', 'id': 21, 'rating': 'PG', 'title': 'Jurassic World', 'year_released': 2015}, {'duration': 121, 'genre': 'Comedy', 'id': 22, 'rating': 'PG', 'title': 'The Intern', 'year_released': 2015}, {'duration': 121, 'genre': 'Comedy', 'id': 23, 'rating': 'R', 'title': 'Ted 2', 'year_released': 2015}, {'duration': 122, 'genre': 'Comedy', 'id': 24, 'rating': 'R', 'title': 'Trainwreck', 'year_released': 2015}, {'duration': 94, 'genre': 'Animation', 'id': 25, 'rating': 'PG', 'title': 'Inside Out', 'year_released': 2015}, {'duration': 101, 'genre': 'Animation', 'id': 26, 'rating': 'G', 'title': 'The Good Dinosaur', 'year_released': 2015}, {'duration': 121, 'genre': 'Action', 'id': 27, 'rating': 'PG', 'title': 'Divergent', 'year_released': 2014}, {'duration': 115, 'genre': 'Action', 'id': 28, 'rating': 'PG', 'title': 'The Max Runner', 'year_released': 2014}, {'duration': 119, 'genre': 'Comedy', 'id': 29, 'rating': 'R', 'title': 'Birdman', 'year_released': 2014}, {'duration': 121, 'genre': 'Fantasy', 'id': 30, 'rating': 'PG', 'title': 'Guardians of the Galaxy', 'year_released': 2014}, {'duration': 100, 'genre': 'Animation', 'id': 31, 'rating': 'PG', 'title': 'The Lego Movie', 'year_released': 2014}, {'duration': 108, 'genre': 'Animation', 'id': 32, 'rating': 'PG', 'title': 'Big Hero 6', 'year_released': 2014}, {'duration': 106, 'genre': 'Crime', 'id': 33, 'rating': 'R', 'title': 'The Drop', 'year_released': 2014}, {'duration': 131, 'genre': 'Fighting', 'id': 34, 'rating': 'PG', 'title': 'Kunfu Vs Lama', 'year_released': 1979}, {'duration': 123, 'genre': 'Action', 'id': 35, 'rating': 'PG', 'title': 'The Matrix', 'year_released': 2021}, {'duration': 185, 'genre': 'Fantasy', 'id': 36, 'rating': 'PG', 'title': 'Matrix Resurections', 'year_released': 2021}, {'duration': 200, 'genre': 'SciFi', 'id': 38, 'rating': '15', 'title': '2010 Space Odyssey', 'year_released': 1984}]\n"
     ]
    }
   ],
   "source": [
    "response = requests.get(\"http://localhost:5000/api/films\")\n",
    "data = response.json()\n",
    "print(data)"
   ]
  },
  {
   "cell_type": "markdown",
   "metadata": {},
   "source": [
    "whoohoo all the data has been returned"
   ]
  },
  {
   "cell_type": "code",
   "execution_count": 15,
   "metadata": {},
   "outputs": [],
   "source": [
    "import pandas as pd\n"
   ]
  },
  {
   "cell_type": "markdown",
   "metadata": {},
   "source": [
    "find out how to create a dataframe from a json file"
   ]
  },
  {
   "cell_type": "code",
   "execution_count": 16,
   "metadata": {},
   "outputs": [
    {
     "name": "stdout",
     "output_type": "stream",
     "text": [
      "    duration      genre  id rating                            title  \\\n",
      "0        116     Comedy   1     PG                      The Muppets   \n",
      "1        109       Test   2     PG             The Legend of Tarzan   \n",
      "2        123     Action   3     PG                     Jason Bourne   \n",
      "3        116      Crime   4      R                    The Nice Guys   \n",
      "4         91  Animation   5      G          The Secret Life of Pets   \n",
      "5        120     Action   6     PG                 Star Trek Beyond   \n",
      "6        151     Action   7     PG                Batman v Superman   \n",
      "7        103  Animation   8      G                     Finding Dory   \n",
      "8        108  Animation   9      G                         Zootopia   \n",
      "9         90    Fantasy  10     PG                          The BFG   \n",
      "10       108    Fantasy  11     PG                  A Monster Calls   \n",
      "11       120     Action  12     PG     Independence Day: Resurgence   \n",
      "12        94      Crime  13      R                   The Green Room   \n",
      "13       130    Fantasy  14     PG                   Doctor Strange   \n",
      "14       105    Fantasy  15     PG                  The Jungle Book   \n",
      "15       118    Fantasy  16     PG  Alice Through the Looking Glass   \n",
      "16       109      Crime  17      R                         Imperium   \n",
      "17       127      Crime  18      R                  The Infiltrator   \n",
      "18       120     Action  19      R               Mad Max: Fury Road   \n",
      "19       145     Action  20     PG                          Spectre   \n",
      "20       100     Action  21     PG                   Jurassic World   \n",
      "21       121     Comedy  22     PG                       The Intern   \n",
      "22       121     Comedy  23      R                            Ted 2   \n",
      "23       122     Comedy  24      R                       Trainwreck   \n",
      "24        94  Animation  25     PG                       Inside Out   \n",
      "25       101  Animation  26      G                The Good Dinosaur   \n",
      "26       121     Action  27     PG                        Divergent   \n",
      "27       115     Action  28     PG                   The Max Runner   \n",
      "28       119     Comedy  29      R                          Birdman   \n",
      "29       121    Fantasy  30     PG          Guardians of the Galaxy   \n",
      "30       100  Animation  31     PG                   The Lego Movie   \n",
      "31       108  Animation  32     PG                       Big Hero 6   \n",
      "32       106      Crime  33      R                         The Drop   \n",
      "33       131   Fighting  34     PG                    Kunfu Vs Lama   \n",
      "34       123     Action  35     PG                       The Matrix   \n",
      "35       185    Fantasy  36     PG              Matrix Resurections   \n",
      "36       200      SciFi  38     15               2010 Space Odyssey   \n",
      "\n",
      "    year_released  \n",
      "0            2022  \n",
      "1            2016  \n",
      "2            2016  \n",
      "3            2016  \n",
      "4            2016  \n",
      "5            2016  \n",
      "6            2016  \n",
      "7            2016  \n",
      "8            2016  \n",
      "9            2016  \n",
      "10           2016  \n",
      "11           2016  \n",
      "12           2016  \n",
      "13           2016  \n",
      "14           2016  \n",
      "15           2016  \n",
      "16           2016  \n",
      "17           2016  \n",
      "18           2015  \n",
      "19           2015  \n",
      "20           2015  \n",
      "21           2015  \n",
      "22           2015  \n",
      "23           2015  \n",
      "24           2015  \n",
      "25           2015  \n",
      "26           2014  \n",
      "27           2014  \n",
      "28           2014  \n",
      "29           2014  \n",
      "30           2014  \n",
      "31           2014  \n",
      "32           2014  \n",
      "33           1979  \n",
      "34           2021  \n",
      "35           2021  \n",
      "36           1984  \n"
     ]
    }
   ],
   "source": [
    "url = \"http://localhost:5000/api/films\"\n",
    "df = pd.read_json(url) \n",
    "print(df)"
   ]
  }
 ],
 "metadata": {
  "kernelspec": {
   "display_name": "venv",
   "language": "python",
   "name": "python3"
  },
  "language_info": {
   "codemirror_mode": {
    "name": "ipython",
    "version": 3
   },
   "file_extension": ".py",
   "mimetype": "text/x-python",
   "name": "python",
   "nbconvert_exporter": "python",
   "pygments_lexer": "ipython3",
   "version": "3.11.5"
  },
  "orig_nbformat": 4
 },
 "nbformat": 4,
 "nbformat_minor": 2
}
